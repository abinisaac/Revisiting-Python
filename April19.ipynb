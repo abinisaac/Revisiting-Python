{
  "nbformat": 4,
  "nbformat_minor": 0,
  "metadata": {
    "colab": {
      "name": "April19.ipynb",
      "private_outputs": true,
      "provenance": []
    },
    "kernelspec": {
      "name": "python3",
      "display_name": "Python 3"
    },
    "language_info": {
      "name": "python"
    }
  },
  "cells": [
    {
      "cell_type": "markdown",
      "source": [
        "Panda's Series"
      ],
      "metadata": {
        "id": "u4dNnVrkuVuU"
      }
    },
    {
      "cell_type": "code",
      "execution_count": null,
      "metadata": {
        "id": "_thhVGz4tb3T"
      },
      "outputs": [],
      "source": [
        "import pandas as pd\n",
        "print(pd.Series())\n",
        "print(pd.Series(dtype='O'))\n",
        "print(pd.Series(dtype='int64'))\n"
      ]
    },
    {
      "cell_type": "markdown",
      "source": [
        "pd.Series(' ') vs pd.Series()"
      ],
      "metadata": {
        "id": "cPn7eMFDv7rX"
      }
    },
    {
      "cell_type": "code",
      "source": [
        "print(pd.Series(''))\n",
        "print(pd.Series('',('A',)))\n",
        "pd.Series('a',)"
      ],
      "metadata": {
        "id": "t94TYVVHveXB"
      },
      "execution_count": null,
      "outputs": []
    }
  ]
}